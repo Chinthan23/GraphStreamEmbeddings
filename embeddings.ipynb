{
 "cells": [
  {
   "cell_type": "code",
   "execution_count": 1,
   "metadata": {},
   "outputs": [],
   "source": [
    "import networkx as nx\n",
    "from node2vec import Node2Vec\n",
    "\n",
    "\n",
    "# Example: Load edge list from file\n",
    "edge_list_file = \"./facebook-links.txt\"\n",
    "edges = []\n",
    "with open(edge_list_file, \"r\") as f:\n",
    "    for line in f:\n",
    "        edges.append(tuple(map(int, line.strip().split(\"\\t\")[:2])))\n",
    "\n",
    "\n",
    "G = nx.from_edgelist(edges)\n",
    "\n",
    "# Optionally, add node attributes if available\n",
    "# nx.set_node_attributes(G, node_attributes)\n",
    "\n",
    "# Configure Node2vec parameters\n",
    "dimensions = 128  # Embedding dimension\n",
    "walk_length = 20  # Length of random walks\n",
    "num_walks = 10  # Number of random walks per node\n",
    "p = 1.0  # Return parameter\n",
    "q = 1.0  # In-out parameter"
   ]
  },
  {
   "cell_type": "code",
   "execution_count": 2,
   "metadata": {},
   "outputs": [
    {
     "data": {
      "application/vnd.jupyter.widget-view+json": {
       "model_id": "fc220b2eb3a74cc3a0ac7a480c9022c8",
       "version_major": 2,
       "version_minor": 0
      },
      "text/plain": [
       "Computing transition probabilities:   0%|          | 0/63731 [00:00<?, ?it/s]"
      ]
     },
     "metadata": {},
     "output_type": "display_data"
    },
    {
     "name": "stderr",
     "output_type": "stream",
     "text": [
      "Generating walks (CPU: 1): 100%|██████████| 10/10 [02:07<00:00, 12.80s/it]\n"
     ]
    }
   ],
   "source": [
    "model = Node2Vec(G, dimensions, walk_length, num_walks, p, q)"
   ]
  },
  {
   "cell_type": "code",
   "execution_count": 3,
   "metadata": {},
   "outputs": [],
   "source": [
    "modelfitted = model.fit(window=10, min_count=0,workers=6)"
   ]
  },
  {
   "cell_type": "code",
   "execution_count": 8,
   "metadata": {},
   "outputs": [
    {
     "data": {
      "text/plain": [
       "array([[-0.02727363, -0.12752074,  0.22144797, ..., -0.15977655,\n",
       "        -0.01108582,  0.06885537],\n",
       "       [-0.26513547, -0.3370468 ,  0.78828526, ..., -0.38016796,\n",
       "        -0.34424353,  0.26344997],\n",
       "       [-0.24075094,  0.367675  ,  0.30267224, ..., -0.31034935,\n",
       "         0.3694236 , -0.25722083],\n",
       "       ...,\n",
       "       [-0.1599873 ,  0.01161149,  0.001572  , ..., -0.09788678,\n",
       "        -0.07988957,  0.28288642],\n",
       "       [-0.00555711, -0.23310874, -0.07948861, ..., -0.00559676,\n",
       "         0.0918458 ,  0.03809736],\n",
       "       [-0.24452642,  0.02978168, -0.06429958, ..., -0.06557774,\n",
       "         0.02418381,  0.04420698]], dtype=float32)"
      ]
     },
     "execution_count": 8,
     "metadata": {},
     "output_type": "execute_result"
    }
   ],
   "source": [
    "modelfitted.wv.vectors"
   ]
  },
  {
   "cell_type": "code",
   "execution_count": 9,
   "metadata": {},
   "outputs": [
    {
     "data": {
      "text/plain": [
       "array([-2.98128817e-02, -2.70388305e-01, -9.70226247e-04,  3.86330575e-01,\n",
       "        2.68378645e-01,  1.40393287e-01, -1.71840087e-01, -4.21832912e-02,\n",
       "        2.45522112e-01,  2.57652309e-02,  3.42559069e-02, -1.87700793e-01,\n",
       "        6.66412592e-01, -2.69939870e-01, -4.59723860e-01, -1.75074980e-01,\n",
       "        7.24892039e-03, -3.87932241e-01, -4.57193404e-02,  3.40074867e-01,\n",
       "        3.67815495e-01, -1.13615185e-01, -1.90676714e-03, -3.57571006e-01,\n",
       "       -2.79831797e-01, -2.99201638e-01, -2.81558335e-01,  2.15039715e-01,\n",
       "       -4.29381013e-01, -4.40841131e-02,  5.81979146e-03,  6.47815943e-01,\n",
       "        3.34092468e-01,  5.13430893e-01,  2.09305093e-01,  2.54911184e-01,\n",
       "        1.37338355e-01, -2.97002345e-01, -5.38665056e-03,  3.79774943e-02,\n",
       "        1.91284418e-01, -7.49407336e-02,  2.11473003e-01, -1.87216818e-01,\n",
       "       -2.40732968e-01, -3.74487191e-01, -3.21656391e-02,  4.13841605e-01,\n",
       "        4.50815916e-01,  1.07082725e-01, -2.82265216e-01, -1.11566663e-01,\n",
       "       -3.47692579e-01,  2.68250823e-01,  7.03752190e-02, -1.70197904e-01,\n",
       "       -2.31613114e-01, -2.35620812e-01, -4.63283628e-01, -1.24809980e-01,\n",
       "        2.93801904e-01,  5.56490682e-02, -1.42078204e-02,  3.12795132e-01,\n",
       "        2.48173878e-01, -4.27004844e-01, -6.74356878e-01, -1.20528489e-01,\n",
       "        1.58681013e-02,  3.60908359e-01,  4.64166135e-01, -5.87802470e-01,\n",
       "       -1.11952774e-01, -5.99777699e-01,  1.00239837e+00, -6.78955853e-01,\n",
       "       -3.58697116e-01, -3.04521710e-01, -1.85072888e-02,  2.71051824e-01,\n",
       "       -1.72177672e-01, -2.72400409e-01,  1.42509580e-01,  4.70824927e-01,\n",
       "        4.48176056e-01,  3.41060340e-01, -1.07401600e-02, -1.83573052e-01,\n",
       "        1.09425329e-01,  2.04991758e-01, -2.53521472e-01, -2.52185646e-03,\n",
       "       -5.59511304e-01, -2.08533973e-01,  4.78346236e-02, -1.21965669e-01,\n",
       "        6.54609548e-03,  1.73306376e-01, -4.78091806e-01,  1.11418694e-01,\n",
       "       -3.10508281e-01,  5.50118349e-02, -3.78321530e-03,  4.98286681e-03,\n",
       "        2.47199610e-01,  5.35642624e-01, -9.39471200e-02,  4.55736846e-01,\n",
       "        3.58608574e-01,  2.28128776e-01,  1.43455610e-01,  2.49164090e-01,\n",
       "        1.62938431e-01,  2.82629520e-01,  1.68354198e-01, -1.62991419e-01,\n",
       "        2.82694668e-01,  2.59116322e-01, -3.51529360e-01,  1.23926729e-01,\n",
       "       -1.70624956e-01, -1.55114055e-01,  3.06526512e-01, -3.55704129e-02,\n",
       "       -2.20605403e-01, -1.95138171e-01, -5.68010986e-01, -4.27389950e-01],\n",
       "      dtype=float32)"
      ]
     },
     "execution_count": 9,
     "metadata": {},
     "output_type": "execute_result"
    }
   ],
   "source": [
    "modelfitted.wv.get_vector(1117)"
   ]
  }
 ],
 "metadata": {
  "kernelspec": {
   "display_name": "base",
   "language": "python",
   "name": "python3"
  },
  "language_info": {
   "codemirror_mode": {
    "name": "ipython",
    "version": 3
   },
   "file_extension": ".py",
   "mimetype": "text/x-python",
   "name": "python",
   "nbconvert_exporter": "python",
   "pygments_lexer": "ipython3",
   "version": "3.9.12"
  }
 },
 "nbformat": 4,
 "nbformat_minor": 2
}
